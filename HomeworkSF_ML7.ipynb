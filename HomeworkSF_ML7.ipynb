{
 "cells": [
  {
   "cell_type": "markdown",
   "metadata": {},
   "source": [
    "## Практика ML-7. Оптимизация гиперпараметров модели"
   ]
  },
  {
   "cell_type": "markdown",
   "metadata": {},
   "source": [
    "### Задача. Необходимо предсказать биологический ответ молекул (столбец 'Activity') по их химическому составу (столбцы D1-D1776)."
   ]
  },
  {
   "cell_type": "code",
   "execution_count": 1,
   "metadata": {},
   "outputs": [
    {
     "name": "stderr",
     "output_type": "stream",
     "text": [
      "c:\\python\\lib\\site-packages\\tqdm\\auto.py:21: TqdmWarning: IProgress not found. Please update jupyter and ipywidgets. See https://ipywidgets.readthedocs.io/en/stable/user_install.html\n",
      "  from .autonotebook import tqdm as notebook_tqdm\n"
     ]
    },
    {
     "data": {
      "text/html": [
       "<div>\n",
       "<style scoped>\n",
       "    .dataframe tbody tr th:only-of-type {\n",
       "        vertical-align: middle;\n",
       "    }\n",
       "\n",
       "    .dataframe tbody tr th {\n",
       "        vertical-align: top;\n",
       "    }\n",
       "\n",
       "    .dataframe thead th {\n",
       "        text-align: right;\n",
       "    }\n",
       "</style>\n",
       "<table border=\"1\" class=\"dataframe\">\n",
       "  <thead>\n",
       "    <tr style=\"text-align: right;\">\n",
       "      <th></th>\n",
       "      <th>Activity</th>\n",
       "      <th>D1</th>\n",
       "      <th>D2</th>\n",
       "      <th>D3</th>\n",
       "      <th>D4</th>\n",
       "      <th>D5</th>\n",
       "      <th>D6</th>\n",
       "      <th>D7</th>\n",
       "      <th>D8</th>\n",
       "      <th>D9</th>\n",
       "      <th>...</th>\n",
       "      <th>D1767</th>\n",
       "      <th>D1768</th>\n",
       "      <th>D1769</th>\n",
       "      <th>D1770</th>\n",
       "      <th>D1771</th>\n",
       "      <th>D1772</th>\n",
       "      <th>D1773</th>\n",
       "      <th>D1774</th>\n",
       "      <th>D1775</th>\n",
       "      <th>D1776</th>\n",
       "    </tr>\n",
       "  </thead>\n",
       "  <tbody>\n",
       "    <tr>\n",
       "      <th>0</th>\n",
       "      <td>1</td>\n",
       "      <td>0.000000</td>\n",
       "      <td>0.497009</td>\n",
       "      <td>0.10</td>\n",
       "      <td>0.0</td>\n",
       "      <td>0.132956</td>\n",
       "      <td>0.678031</td>\n",
       "      <td>0.273166</td>\n",
       "      <td>0.585445</td>\n",
       "      <td>0.743663</td>\n",
       "      <td>...</td>\n",
       "      <td>0</td>\n",
       "      <td>0</td>\n",
       "      <td>0</td>\n",
       "      <td>0</td>\n",
       "      <td>0</td>\n",
       "      <td>0</td>\n",
       "      <td>0</td>\n",
       "      <td>0</td>\n",
       "      <td>0</td>\n",
       "      <td>0</td>\n",
       "    </tr>\n",
       "    <tr>\n",
       "      <th>1</th>\n",
       "      <td>1</td>\n",
       "      <td>0.366667</td>\n",
       "      <td>0.606291</td>\n",
       "      <td>0.05</td>\n",
       "      <td>0.0</td>\n",
       "      <td>0.111209</td>\n",
       "      <td>0.803455</td>\n",
       "      <td>0.106105</td>\n",
       "      <td>0.411754</td>\n",
       "      <td>0.836582</td>\n",
       "      <td>...</td>\n",
       "      <td>1</td>\n",
       "      <td>1</td>\n",
       "      <td>1</td>\n",
       "      <td>1</td>\n",
       "      <td>0</td>\n",
       "      <td>1</td>\n",
       "      <td>0</td>\n",
       "      <td>0</td>\n",
       "      <td>1</td>\n",
       "      <td>0</td>\n",
       "    </tr>\n",
       "    <tr>\n",
       "      <th>2</th>\n",
       "      <td>1</td>\n",
       "      <td>0.033300</td>\n",
       "      <td>0.480124</td>\n",
       "      <td>0.00</td>\n",
       "      <td>0.0</td>\n",
       "      <td>0.209791</td>\n",
       "      <td>0.610350</td>\n",
       "      <td>0.356453</td>\n",
       "      <td>0.517720</td>\n",
       "      <td>0.679051</td>\n",
       "      <td>...</td>\n",
       "      <td>0</td>\n",
       "      <td>0</td>\n",
       "      <td>0</td>\n",
       "      <td>0</td>\n",
       "      <td>0</td>\n",
       "      <td>0</td>\n",
       "      <td>0</td>\n",
       "      <td>0</td>\n",
       "      <td>0</td>\n",
       "      <td>0</td>\n",
       "    </tr>\n",
       "    <tr>\n",
       "      <th>3</th>\n",
       "      <td>1</td>\n",
       "      <td>0.000000</td>\n",
       "      <td>0.538825</td>\n",
       "      <td>0.00</td>\n",
       "      <td>0.5</td>\n",
       "      <td>0.196344</td>\n",
       "      <td>0.724230</td>\n",
       "      <td>0.235606</td>\n",
       "      <td>0.288764</td>\n",
       "      <td>0.805110</td>\n",
       "      <td>...</td>\n",
       "      <td>0</td>\n",
       "      <td>0</td>\n",
       "      <td>0</td>\n",
       "      <td>0</td>\n",
       "      <td>0</td>\n",
       "      <td>0</td>\n",
       "      <td>0</td>\n",
       "      <td>0</td>\n",
       "      <td>0</td>\n",
       "      <td>0</td>\n",
       "    </tr>\n",
       "    <tr>\n",
       "      <th>4</th>\n",
       "      <td>0</td>\n",
       "      <td>0.100000</td>\n",
       "      <td>0.517794</td>\n",
       "      <td>0.00</td>\n",
       "      <td>0.0</td>\n",
       "      <td>0.494734</td>\n",
       "      <td>0.781422</td>\n",
       "      <td>0.154361</td>\n",
       "      <td>0.303809</td>\n",
       "      <td>0.812646</td>\n",
       "      <td>...</td>\n",
       "      <td>0</td>\n",
       "      <td>0</td>\n",
       "      <td>0</td>\n",
       "      <td>0</td>\n",
       "      <td>0</td>\n",
       "      <td>0</td>\n",
       "      <td>0</td>\n",
       "      <td>0</td>\n",
       "      <td>0</td>\n",
       "      <td>0</td>\n",
       "    </tr>\n",
       "  </tbody>\n",
       "</table>\n",
       "<p>5 rows × 1777 columns</p>\n",
       "</div>"
      ],
      "text/plain": [
       "   Activity        D1        D2    D3   D4        D5        D6        D7  \\\n",
       "0         1  0.000000  0.497009  0.10  0.0  0.132956  0.678031  0.273166   \n",
       "1         1  0.366667  0.606291  0.05  0.0  0.111209  0.803455  0.106105   \n",
       "2         1  0.033300  0.480124  0.00  0.0  0.209791  0.610350  0.356453   \n",
       "3         1  0.000000  0.538825  0.00  0.5  0.196344  0.724230  0.235606   \n",
       "4         0  0.100000  0.517794  0.00  0.0  0.494734  0.781422  0.154361   \n",
       "\n",
       "         D8        D9  ...  D1767  D1768  D1769  D1770  D1771  D1772  D1773  \\\n",
       "0  0.585445  0.743663  ...      0      0      0      0      0      0      0   \n",
       "1  0.411754  0.836582  ...      1      1      1      1      0      1      0   \n",
       "2  0.517720  0.679051  ...      0      0      0      0      0      0      0   \n",
       "3  0.288764  0.805110  ...      0      0      0      0      0      0      0   \n",
       "4  0.303809  0.812646  ...      0      0      0      0      0      0      0   \n",
       "\n",
       "   D1774  D1775  D1776  \n",
       "0      0      0      0  \n",
       "1      0      1      0  \n",
       "2      0      0      0  \n",
       "3      0      0      0  \n",
       "4      0      0      0  \n",
       "\n",
       "[5 rows x 1777 columns]"
      ]
     },
     "execution_count": 1,
     "metadata": {},
     "output_type": "execute_result"
    }
   ],
   "source": [
    "#импорт библиотек\n",
    "import numpy as np #для матричных вычислений\n",
    "import pandas as pd #для анализа и предобработки данных\n",
    "from sklearn import linear_model #линейные модели\n",
    "from sklearn import tree #деревья решений\n",
    "from sklearn import ensemble #ансамбли\n",
    "from sklearn import metrics #метрики\n",
    "#from sklearn import preprocessing #предобработка\n",
    "from sklearn.model_selection import train_test_split #сплитование выборки\n",
    "\n",
    "from sklearn.model_selection import GridSearchCV\n",
    "from sklearn.model_selection import RandomizedSearchCV\n",
    "from sklearn.model_selection import cross_val_score\n",
    "import hyperopt\n",
    "from hyperopt import hp, fmin, tpe, Trials\n",
    "import optuna\n",
    "\n",
    "import warnings\n",
    "warnings.filterwarnings('ignore')\n",
    "\n",
    "random_state = 42\n",
    "\n",
    "data = pd.read_csv('../data/_train_sem09 (1).csv')\n",
    "data.head()"
   ]
  },
  {
   "cell_type": "markdown",
   "metadata": {},
   "source": [
    "Так как  данные уже закодированы и нормализованы, переходим к созданию матрицы наблюдений $X$ и вектора ответов $y$"
   ]
  },
  {
   "cell_type": "code",
   "execution_count": 2,
   "metadata": {},
   "outputs": [],
   "source": [
    "X = data.drop(['Activity'], axis=1)\n",
    "y = data['Activity']"
   ]
  },
  {
   "cell_type": "markdown",
   "metadata": {},
   "source": [
    "Разделяем выборку на тренировочную и тестовую в соотношении 80/20."
   ]
  },
  {
   "cell_type": "code",
   "execution_count": 3,
   "metadata": {},
   "outputs": [],
   "source": [
    "X_train, X_test, y_train, y_test = train_test_split(X, y, random_state = 1, test_size = 0.2)"
   ]
  },
  {
   "cell_type": "markdown",
   "metadata": {},
   "source": [
    "### <center>  **Логистическая регрессия**"
   ]
  },
  {
   "cell_type": "markdown",
   "metadata": {},
   "source": [
    "Сначала посчитаем модель с параметрами по умолчанию и оценим метрику f1"
   ]
  },
  {
   "cell_type": "code",
   "execution_count": 4,
   "metadata": {},
   "outputs": [
    {
     "name": "stdout",
     "output_type": "stream",
     "text": [
      "f1_score на тестовом наборе: 0.78\n"
     ]
    }
   ],
   "source": [
    "#Создаем объект класса логистическая регрессия\n",
    "log_reg = linear_model.LogisticRegression(max_iter = 1000, random_state=random_state)\n",
    "#Обучаем модель\n",
    "log_reg.fit(X_train, y_train)\n",
    "#print(\"accuracy на тестовом наборе: {:.2f}\".format(log_reg.score(X_test, y_test)))\n",
    "y_test_pred = log_reg.predict(X_test)\n",
    "print('f1_score на тестовом наборе: {:.2f}'.format(metrics.f1_score(y_test, y_test_pred)))"
   ]
  },
  {
   "cell_type": "markdown",
   "metadata": {},
   "source": [
    "### **GridSearchCV**"
   ]
  },
  {
   "cell_type": "code",
   "execution_count": 5,
   "metadata": {},
   "outputs": [
    {
     "name": "stdout",
     "output_type": "stream",
     "text": [
      "CPU times: total: 9.27 s\n",
      "Wall time: 3min 16s\n",
      "f1_score на тестовом наборе: 0.78\n",
      "Наилучшие значения гиперпараметров: {'penalty': 'l2', 'solver': 'lbfgs'}\n"
     ]
    }
   ],
   "source": [
    "param_grid = {'penalty': ['l2', 'none'] ,  #тип регурялизации\n",
    "              'solver': ['lbfgs', 'saga'], #алгоритм оптимизации\n",
    "            }\n",
    "\n",
    "grid_search = GridSearchCV(\n",
    "        estimator=linear_model.LogisticRegression(\n",
    "        random_state=random_state, #генератор случайных чисел\n",
    "        max_iter=1000 #количество итераций на сходимость\n",
    "    ), \n",
    "    param_grid=param_grid, \n",
    "    cv=5, \n",
    "    n_jobs = -1\n",
    ")  \n",
    "%time grid_search.fit(X_train, y_train) \n",
    "#print(\"accuracy на тестовом наборе: {:.2f}\".format(grid_search.score(X_test, y_test)))\n",
    "y_test_pred = grid_search.predict(X_test)\n",
    "print('f1_score на тестовом наборе: {:.2f}'.format(metrics.f1_score(y_test, y_test_pred)))\n",
    "print(\"Наилучшие значения гиперпараметров: {}\".format(grid_search.best_params_))"
   ]
  },
  {
   "cell_type": "markdown",
   "metadata": {},
   "source": [
    "Значение метрики f1 не изменилось, т.е. мы не нашли комбинацию внешних параметров лучше, чем заданы по умолчанию."
   ]
  },
  {
   "cell_type": "markdown",
   "metadata": {},
   "source": [
    "### **RandomizedSearchCV**"
   ]
  },
  {
   "cell_type": "code",
   "execution_count": 6,
   "metadata": {},
   "outputs": [
    {
     "name": "stdout",
     "output_type": "stream",
     "text": [
      "CPU times: total: 4.28 s\n",
      "Wall time: 3min 53s\n",
      "f1_score на тестовом наборе: 0.80\n",
      "Наилучшие значения гиперпараметров: {'solver': 'lbfgs', 'penalty': 'l2', 'C': 0.12}\n"
     ]
    }
   ],
   "source": [
    "param_distributions = {'penalty': ['l2', 'none'] ,\n",
    "                    'solver': ['lbfgs', 'sag'],\n",
    "                    'C': list(np.linspace(0.01, 1, 10, dtype=float)) #np.linspace(start(от), stop(до), num=50(количество),dtype- тип данных)\n",
    "                } \n",
    "            \n",
    "random_search = RandomizedSearchCV(\n",
    "    estimator=linear_model.LogisticRegression(random_state=random_state, max_iter=1000), \n",
    "    param_distributions=param_distributions, \n",
    "    cv=5,  \n",
    "    n_iter=10,   \n",
    "    n_jobs = -1\n",
    ") \n",
    " \n",
    "%time random_search.fit(X_train, y_train) \n",
    "#print(\"accuracy на тестовом наборе: {:.2f}\".format(random_search.score(X_test, y_test)))\n",
    "y_test_pred = random_search.predict(X_test)\n",
    "print('f1_score на тестовом наборе: {:.2f}'.format(metrics.f1_score(y_test, y_test_pred)))\n",
    "print(\"Наилучшие значения гиперпараметров: {}\".format(random_search.best_params_))"
   ]
  },
  {
   "cell_type": "markdown",
   "metadata": {},
   "source": [
    "С помощью метода базовой оптимизации RandomizedSearchCV удалось немного улучшить метрику f1."
   ]
  },
  {
   "cell_type": "markdown",
   "metadata": {},
   "source": [
    "### Hyperopt (продвинутая оптимизация)"
   ]
  },
  {
   "cell_type": "code",
   "execution_count": 7,
   "metadata": {},
   "outputs": [],
   "source": [
    "space = {'penalty': hp.choice('penalty', [\"none\", \"l2\"]),\n",
    "        'solver': hp.choice('solver', [\"lbfgs\", \"sag\"]),\n",
    "        'C': hp.uniform('C', 0.01, 1)\n",
    "        }\n",
    "\n",
    "def hyperopt_lr(params, cv=5, X=X_train, y=y_train, random_state=random_state):    \n",
    "    model = linear_model.LogisticRegression(**params, random_state=random_state, max_iter=50)\n",
    "    # обучаем модель\n",
    "    model.fit(X, y)\n",
    "    score = metrics.f1_score(y, model.predict(X))\n",
    "    return -score"
   ]
  },
  {
   "cell_type": "code",
   "execution_count": 8,
   "metadata": {},
   "outputs": [
    {
     "name": "stdout",
     "output_type": "stream",
     "text": [
      "  0%|          | 0/50 [00:00<?, ?trial/s, best loss=?]"
     ]
    },
    {
     "name": "stdout",
     "output_type": "stream",
     "text": [
      "100%|██████████| 50/50 [00:52<00:00,  1.05s/trial, best loss: -0.8887537993920973]\n",
      "Наилучшие значения гиперпараметров {'C': 0.08292441519601887, 'penalty': 0, 'solver': 0}\n",
      "CPU times: total: 1min 14s\n",
      "Wall time: 52.4 s\n"
     ]
    }
   ],
   "source": [
    "%%time\n",
    "\n",
    "trials = Trials() # используется для логирования результатов\n",
    "\n",
    "best=fmin(hyperopt_lr, # наша функция \n",
    "        space=space, # пространство гиперпараметров\n",
    "        algo=tpe.suggest, # алгоритм оптимизации, установлен по умолчанию, задавать необязательно\n",
    "        max_evals=50, # максимальное количество итераций\n",
    "        trials=trials, # логирование результатов\n",
    "        rstate=np.random.default_rng(random_state)# фиксируем для повторяемости результата\n",
    "        )\n",
    "\n",
    "print(\"Наилучшие значения гиперпараметров {}\".format(best))"
   ]
  },
  {
   "cell_type": "code",
   "execution_count": 9,
   "metadata": {},
   "outputs": [
    {
     "name": "stdout",
     "output_type": "stream",
     "text": [
      "f1_score на тестовом наборе: 0.80\n"
     ]
    }
   ],
   "source": [
    "# рассчитаем точность для тестовой выборки\n",
    "model = linear_model.LogisticRegression(\n",
    "    random_state=42, \n",
    "    #max_iter=50,\n",
    "    C=float(best['C'])\n",
    "    #penalty=int(best['penalty']),\n",
    "    #solver=int(best['solver'])\n",
    ")\n",
    "model.fit(X_train, y_train)\n",
    "#print(\"accuracy на тестовом наборе: {:.2f}\".format(model.score(X_test, y_test)))\n",
    "y_test_pred = model.predict(X_test)\n",
    "print('f1_score на тестовом наборе: {:.2f}'.format(metrics.f1_score(y_test, y_test_pred)))"
   ]
  },
  {
   "cell_type": "markdown",
   "metadata": {},
   "source": [
    "Значение метрики f1 такое же как при использовании метода RandomizedSearchCV, но было затрачено меньше времени."
   ]
  },
  {
   "cell_type": "markdown",
   "metadata": {},
   "source": [
    "### Optuna (продвинутая оптимизация)"
   ]
  },
  {
   "cell_type": "code",
   "execution_count": 10,
   "metadata": {},
   "outputs": [],
   "source": [
    "def optuna_lr(trial):\n",
    "      # задаем пространства поиска гиперпараметров\n",
    "      penalty_ = trial.suggest_categorical('penalty', ['l2', 'none'])\n",
    "      solver_ = trial.suggest_categorical('solver', [\"lbfgs\", \"sag\"])\n",
    "      C_ = trial.suggest_float(\"C\", 0.01, 1, step=0.01)\n",
    "\n",
    "      # создаем модель\n",
    "      model = linear_model.LogisticRegression(penalty=penalty_,\n",
    "                                          solver=solver_,\n",
    "                                          C=C_,\n",
    "                                          random_state=42,\n",
    "                                          max_iter=50)\n",
    "      # обучаем модель\n",
    "      model.fit(X_train, y_train)\n",
    "      score = metrics.f1_score(y_train, model.predict(X_train))\n",
    "      return score"
   ]
  },
  {
   "cell_type": "code",
   "execution_count": 11,
   "metadata": {},
   "outputs": [
    {
     "name": "stderr",
     "output_type": "stream",
     "text": [
      "[I 2023-07-18 16:30:17,289] A new study created in memory with name: LogisticRegression\n",
      "[I 2023-07-18 16:30:19,397] Trial 0 finished with value: 0.8732137427789601 and parameters: {'penalty': 'l2', 'solver': 'sag', 'C': 0.53}. Best is trial 0 with value: 0.8732137427789601.\n",
      "[I 2023-07-18 16:30:21,498] Trial 1 finished with value: 0.8782265411478896 and parameters: {'penalty': 'none', 'solver': 'sag', 'C': 0.46}. Best is trial 1 with value: 0.8782265411478896.\n",
      "[I 2023-07-18 16:30:21,939] Trial 2 finished with value: 0.8887537993920973 and parameters: {'penalty': 'none', 'solver': 'lbfgs', 'C': 0.5}. Best is trial 2 with value: 0.8887537993920973.\n",
      "[I 2023-07-18 16:30:22,375] Trial 3 finished with value: 0.8887537993920973 and parameters: {'penalty': 'none', 'solver': 'lbfgs', 'C': 0.06999999999999999}. Best is trial 2 with value: 0.8887537993920973.\n",
      "[I 2023-07-18 16:30:24,446] Trial 4 finished with value: 0.8748481166464156 and parameters: {'penalty': 'l2', 'solver': 'sag', 'C': 0.63}. Best is trial 2 with value: 0.8887537993920973.\n",
      "[I 2023-07-18 16:30:24,898] Trial 5 finished with value: 0.864406779661017 and parameters: {'penalty': 'l2', 'solver': 'lbfgs', 'C': 0.25}. Best is trial 2 with value: 0.8887537993920973.\n",
      "[I 2023-07-18 16:30:25,350] Trial 6 finished with value: 0.877841770233404 and parameters: {'penalty': 'l2', 'solver': 'lbfgs', 'C': 0.55}. Best is trial 2 with value: 0.8887537993920973.\n",
      "[I 2023-07-18 16:30:27,468] Trial 7 finished with value: 0.8638981509548348 and parameters: {'penalty': 'l2', 'solver': 'sag', 'C': 0.27}. Best is trial 2 with value: 0.8887537993920973.\n",
      "[I 2023-07-18 16:30:27,923] Trial 8 finished with value: 0.8887537993920973 and parameters: {'penalty': 'none', 'solver': 'lbfgs', 'C': 0.6900000000000001}. Best is trial 2 with value: 0.8887537993920973.\n",
      "[I 2023-07-18 16:30:28,384] Trial 9 finished with value: 0.8887537993920973 and parameters: {'penalty': 'none', 'solver': 'lbfgs', 'C': 0.48000000000000004}. Best is trial 2 with value: 0.8887537993920973.\n",
      "[I 2023-07-18 16:30:28,829] Trial 10 finished with value: 0.8887537993920973 and parameters: {'penalty': 'none', 'solver': 'lbfgs', 'C': 0.93}. Best is trial 2 with value: 0.8887537993920973.\n",
      "[I 2023-07-18 16:30:29,268] Trial 11 finished with value: 0.8887537993920973 and parameters: {'penalty': 'none', 'solver': 'lbfgs', 'C': 0.02}. Best is trial 2 with value: 0.8887537993920973.\n",
      "[I 2023-07-18 16:30:29,708] Trial 12 finished with value: 0.8887537993920973 and parameters: {'penalty': 'none', 'solver': 'lbfgs', 'C': 0.01}. Best is trial 2 with value: 0.8887537993920973.\n",
      "[I 2023-07-18 16:30:30,149] Trial 13 finished with value: 0.8887537993920973 and parameters: {'penalty': 'none', 'solver': 'lbfgs', 'C': 0.8400000000000001}. Best is trial 2 with value: 0.8887537993920973.\n",
      "[I 2023-07-18 16:30:30,586] Trial 14 finished with value: 0.8887537993920973 and parameters: {'penalty': 'none', 'solver': 'lbfgs', 'C': 0.23}. Best is trial 2 with value: 0.8887537993920973.\n",
      "[I 2023-07-18 16:30:31,030] Trial 15 finished with value: 0.8887537993920973 and parameters: {'penalty': 'none', 'solver': 'lbfgs', 'C': 0.35000000000000003}. Best is trial 2 with value: 0.8887537993920973.\n",
      "[I 2023-07-18 16:30:31,473] Trial 16 finished with value: 0.8887537993920973 and parameters: {'penalty': 'none', 'solver': 'lbfgs', 'C': 0.14}. Best is trial 2 with value: 0.8887537993920973.\n",
      "[I 2023-07-18 16:30:31,927] Trial 17 finished with value: 0.8887537993920973 and parameters: {'penalty': 'none', 'solver': 'lbfgs', 'C': 0.77}. Best is trial 2 with value: 0.8887537993920973.\n",
      "[I 2023-07-18 16:30:33,999] Trial 18 finished with value: 0.8782265411478896 and parameters: {'penalty': 'none', 'solver': 'sag', 'C': 0.38}. Best is trial 2 with value: 0.8887537993920973.\n",
      "[I 2023-07-18 16:30:34,444] Trial 19 finished with value: 0.8887537993920973 and parameters: {'penalty': 'none', 'solver': 'lbfgs', 'C': 0.14}. Best is trial 2 with value: 0.8887537993920973.\n"
     ]
    },
    {
     "name": "stdout",
     "output_type": "stream",
     "text": [
      "CPU times: total: 26.8 s\n",
      "Wall time: 17.2 s\n"
     ]
    }
   ],
   "source": [
    "%%time\n",
    "# cоздаем объект исследования\n",
    "# можем напрямую указать, что нам необходимо максимизировать метрику direction=\"maximize\"\n",
    "study = optuna.create_study(study_name=\"LogisticRegression\", direction=\"maximize\")\n",
    "# ищем лучшую комбинацию гиперпараметров n_trials раз\n",
    "study.optimize(optuna_lr, n_trials=20)"
   ]
  },
  {
   "cell_type": "code",
   "execution_count": 12,
   "metadata": {},
   "outputs": [
    {
     "name": "stdout",
     "output_type": "stream",
     "text": [
      "Наилучшие значения гиперпараметров {'penalty': 'none', 'solver': 'lbfgs', 'C': 0.5}\n",
      "f1_score на тестовом наборе: 0.75\n"
     ]
    }
   ],
   "source": [
    "# выводим результаты на обучающей выборке\n",
    "print(\"Наилучшие значения гиперпараметров {}\".format(study.best_params))\n",
    "#print(\"f1_score на обучающем наборе: {:.2f}\".format(study.best_value))\n",
    "# рассчитаем точность для тестовой выборки\n",
    "model = linear_model.LogisticRegression(**study.best_params, random_state=random_state)\n",
    "model.fit(X_train, y_train)\n",
    "y_test_pred = model.predict(X_test)\n",
    "print('f1_score на тестовом наборе: {:.2f}'.format(metrics.f1_score(y_test, y_test_pred)))"
   ]
  },
  {
   "cell_type": "markdown",
   "metadata": {},
   "source": [
    "Не удалось улучшить метрику f1 с помощью метода Optuna."
   ]
  },
  {
   "cell_type": "markdown",
   "metadata": {},
   "source": [
    "**Вывод по методам оптимизации для модели логистической регрессии.**\n",
    "\n",
    "Метрику f1 для логистической регрессии удалось улучшить с помощью методов RandomizedSearchCV и Hyperopt"
   ]
  },
  {
   "cell_type": "markdown",
   "metadata": {},
   "source": [
    "### <center> **Случайный лес**"
   ]
  },
  {
   "cell_type": "markdown",
   "metadata": {},
   "source": [
    "Сначала посчитаем модель с параметрами по умолчанию и оценим метрику f1"
   ]
  },
  {
   "cell_type": "code",
   "execution_count": 13,
   "metadata": {},
   "outputs": [
    {
     "name": "stdout",
     "output_type": "stream",
     "text": [
      "f1_score на тестовом наборе: 0.82\n"
     ]
    }
   ],
   "source": [
    "#Создаем объект класса случайный лес\n",
    "rf = ensemble.RandomForestClassifier(random_state=42)\n",
    "#Обучаем модель\n",
    "rf.fit(X_train, y_train)\n",
    "#Выводим значения метрики \n",
    "y_test_pred = rf.predict(X_test)\n",
    "print('f1_score на тестовом наборе: {:.2f}'.format(metrics.f1_score(y_test, y_test_pred)))"
   ]
  },
  {
   "cell_type": "markdown",
   "metadata": {},
   "source": [
    "### **GridSearchCV**"
   ]
  },
  {
   "cell_type": "code",
   "execution_count": 14,
   "metadata": {},
   "outputs": [
    {
     "name": "stdout",
     "output_type": "stream",
     "text": [
      "CPU times: total: 4.55 s\n",
      "Wall time: 2min 52s\n",
      "f1_score на тестовом наборе: 0.81\n",
      "Наилучшие значения гиперпараметров: {'max_depth': 26, 'min_samples_leaf': 5, 'n_estimators': 170}\n"
     ]
    }
   ],
   "source": [
    "param_grid = {'n_estimators': list(range(80, 200, 30)),\n",
    "              'min_samples_leaf': [5],\n",
    "              'max_depth': list(np.linspace(20, 40, 10, dtype=int))\n",
    "            }\n",
    "            \n",
    "grid_search_forest = GridSearchCV(\n",
    "    estimator=ensemble.RandomForestClassifier(random_state=42), \n",
    "    param_grid=param_grid, \n",
    "    cv=5, \n",
    "    n_jobs = -1\n",
    ")  \n",
    "%time grid_search_forest.fit(X_train, y_train) \n",
    "#print(\"accuracy на тестовом наборе: {:.2f}\".format(grid_search_forest.score(X_test, y_test)))\n",
    "y_test_pred = grid_search_forest.predict(X_test)\n",
    "print('f1_score на тестовом наборе: {:.2f}'.format(metrics.f1_score(y_test, y_test_pred)))\n",
    "print(\"Наилучшие значения гиперпараметров: {}\".format(grid_search_forest.best_params_))"
   ]
  },
  {
   "cell_type": "markdown",
   "metadata": {},
   "source": [
    "Значение метрики f1 уменьшилось, т.е. мы не нашли комбинацию внешних параметров лучше, чем заданы по умолчанию."
   ]
  },
  {
   "cell_type": "markdown",
   "metadata": {},
   "source": [
    "### **RandomizedSearchCV**"
   ]
  },
  {
   "cell_type": "code",
   "execution_count": 15,
   "metadata": {},
   "outputs": [
    {
     "name": "stdout",
     "output_type": "stream",
     "text": [
      "CPU times: total: 3.81 s\n",
      "Wall time: 46.6 s\n",
      "accuracy на тестовом наборе: 0.79\n",
      "f1_score на тестовом наборе: 0.81\n",
      "Наилучшие значения гиперпараметров: {'n_estimators': 170, 'min_samples_leaf': 5, 'max_depth': 26}\n"
     ]
    }
   ],
   "source": [
    "# Задаем сетку гиперпараметров:\n",
    "param_distributions = {'n_estimators': list(range(80, 200, 30)), # количество деревьев в лесу, по умолчанию =100\n",
    "              'min_samples_leaf': [5],                              # минимальное количество объектов в листе\n",
    "              'max_depth': list(np.linspace(20, 40, 10, dtype=int)) # максимальная глубина дерева\n",
    "              }\n",
    "            \n",
    "random_search_forest = RandomizedSearchCV(\n",
    "    estimator=ensemble.RandomForestClassifier(random_state=42), \n",
    "    param_distributions=param_distributions, \n",
    "    cv=5,\n",
    "    n_iter = 10, \n",
    "    n_jobs = -1\n",
    ")  \n",
    "%time random_search_forest.fit(X_train, y_train) \n",
    "print(\"accuracy на тестовом наборе: {:.2f}\".format(random_search_forest.score(X_test, y_test)))\n",
    "y_test_pred = random_search_forest.predict(X_test)\n",
    "print('f1_score на тестовом наборе: {:.2f}'.format(metrics.f1_score(y_test, y_test_pred)))\n",
    "print(\"Наилучшие значения гиперпараметров: {}\".format(random_search_forest.best_params_))"
   ]
  },
  {
   "cell_type": "markdown",
   "metadata": {},
   "source": [
    "Метрику f1 не удалось улучшить с помощью метода RandomizedSearchCV."
   ]
  },
  {
   "cell_type": "markdown",
   "metadata": {},
   "source": [
    "### Hyperopt (продвинутая оптимизация)"
   ]
  },
  {
   "cell_type": "code",
   "execution_count": 16,
   "metadata": {},
   "outputs": [],
   "source": [
    "# зададим пространство поиска гиперпараметров\n",
    "space={'n_estimators': hp.quniform('n_estimators', 100, 300, 10),\n",
    "       'max_depth' : hp.quniform('max_depth', 15, 40, 1),\n",
    "       'min_samples_leaf': hp.quniform('min_samples_leaf', 3, 7, 1)\n",
    "      }"
   ]
  },
  {
   "cell_type": "code",
   "execution_count": 17,
   "metadata": {},
   "outputs": [],
   "source": [
    "def hyperopt_rf(params, cv=5, X=X_train, y=y_train, random_state=42):\n",
    "    # функция получает комбинацию гиперпараметров в \"params\"\n",
    "    params = {'n_estimators': int(params['n_estimators']), \n",
    "              'max_depth': int(params['max_depth']), \n",
    "             'min_samples_leaf': int(params['min_samples_leaf'])\n",
    "              }  \n",
    "    # используем эту комбинацию для построения модели\n",
    "    model = ensemble.RandomForestClassifier(**params, random_state=42)\n",
    "    # обучаем модель\n",
    "    model.fit(X, y)\n",
    "    score = metrics.f1_score(y, model.predict(X))    \n",
    "    # метрику необходимо минимизировать, поэтому ставим знак минус\n",
    "    return -score"
   ]
  },
  {
   "cell_type": "code",
   "execution_count": 18,
   "metadata": {},
   "outputs": [
    {
     "name": "stdout",
     "output_type": "stream",
     "text": [
      "100%|██████████| 10/10 [00:43<00:00,  4.38s/trial, best loss: -0.974969474969475]\n",
      "Наилучшие значения гиперпараметров {'max_depth': 22.0, 'min_samples_leaf': 3.0, 'n_estimators': 200.0}\n",
      "CPU times: total: 43 s\n",
      "Wall time: 43.8 s\n"
     ]
    }
   ],
   "source": [
    "%%time\n",
    "random_state=42\n",
    "trials = Trials() # используется для логирования результатов\n",
    "\n",
    "best=fmin(hyperopt_rf, # наша функция \n",
    "          space=space, # пространство гиперпараметров\n",
    "          algo=tpe.suggest, # алгоритм оптимизации, установлен по умолчанию, задавать необязательно\n",
    "          max_evals=10, # максимальное количество итераций\n",
    "          trials=trials, # логирование результатов\n",
    "          rstate = np.random.default_rng(random_state)# фиксируем для повторяемости результата\n",
    "         )\n",
    "print(\"Наилучшие значения гиперпараметров {}\".format(best))"
   ]
  },
  {
   "cell_type": "code",
   "execution_count": 19,
   "metadata": {},
   "outputs": [
    {
     "name": "stdout",
     "output_type": "stream",
     "text": [
      "f1_score на тестовом наборе: 0.82\n"
     ]
    }
   ],
   "source": [
    "# рассчитаем точность для тестовой выборки\n",
    "model = ensemble.RandomForestClassifier(\n",
    "    random_state=42, \n",
    "    n_estimators=int(best['n_estimators']),\n",
    "    max_depth=int(best['max_depth']),\n",
    "    min_samples_leaf=int(best['min_samples_leaf'])\n",
    ")\n",
    "model.fit(X_train, y_train)\n",
    "#print(\"accuracy на тестовом наборе: {:.2f}\".format(model.score(X_test, y_test)))\n",
    "y_test_pred = model.predict(X_test)\n",
    "print('f1_score на тестовом наборе: {:.2f}'.format(metrics.f1_score(y_test, y_test_pred)))"
   ]
  },
  {
   "cell_type": "markdown",
   "metadata": {},
   "source": [
    "Получили значение метрики f1 такое же, как при использовании модели с параметрами по умолчанию."
   ]
  },
  {
   "cell_type": "markdown",
   "metadata": {},
   "source": [
    "### Optuna (продвинутая оптимизация)"
   ]
  },
  {
   "cell_type": "code",
   "execution_count": 20,
   "metadata": {},
   "outputs": [],
   "source": [
    "def optuna_rf(trial):\n",
    "  # задаем пространства поиска гиперпараметров\n",
    "  n_estimators = trial.suggest_int('n_estimators', 100, 310, 10)\n",
    "  max_depth = trial.suggest_int('max_depth', 15, 40, 1)\n",
    "  min_samples_leaf = trial.suggest_int('min_samples_leaf', 3, 7, 1)\n",
    "\n",
    "  # создаем модель\n",
    "  model = ensemble.RandomForestClassifier(n_estimators=n_estimators,\n",
    "                                          max_depth=max_depth,\n",
    "                                          min_samples_leaf=min_samples_leaf,\n",
    "                                          random_state=42)\n",
    "  # обучаем модель\n",
    "  model.fit(X_train, y_train)\n",
    "  score = metrics.f1_score(y_train, model.predict(X_train))\n",
    "\n",
    "  return score"
   ]
  },
  {
   "cell_type": "code",
   "execution_count": 21,
   "metadata": {},
   "outputs": [
    {
     "name": "stderr",
     "output_type": "stream",
     "text": [
      "[I 2023-07-18 16:35:06,215] A new study created in memory with name: RandomForestClassifier\n",
      "[I 2023-07-18 16:35:10,275] Trial 0 finished with value: 0.9728078215704247 and parameters: {'n_estimators': 150, 'max_depth': 24, 'min_samples_leaf': 3}. Best is trial 0 with value: 0.9728078215704247.\n",
      "[I 2023-07-18 16:35:16,838] Trial 1 finished with value: 0.923076923076923 and parameters: {'n_estimators': 310, 'max_depth': 23, 'min_samples_leaf': 7}. Best is trial 0 with value: 0.9728078215704247.\n",
      "[I 2023-07-18 16:35:21,142] Trial 2 finished with value: 0.9242930982061417 and parameters: {'n_estimators': 210, 'max_depth': 20, 'min_samples_leaf': 7}. Best is trial 0 with value: 0.9728078215704247.\n",
      "[I 2023-07-18 16:35:27,152] Trial 3 finished with value: 0.9300911854103344 and parameters: {'n_estimators': 260, 'max_depth': 19, 'min_samples_leaf': 6}. Best is trial 0 with value: 0.9728078215704247.\n",
      "[I 2023-07-18 16:35:31,434] Trial 4 finished with value: 0.923076923076923 and parameters: {'n_estimators': 190, 'max_depth': 27, 'min_samples_leaf': 7}. Best is trial 0 with value: 0.9728078215704247.\n",
      "[I 2023-07-18 16:35:34,094] Trial 5 finished with value: 0.9309400669303317 and parameters: {'n_estimators': 120, 'max_depth': 26, 'min_samples_leaf': 6}. Best is trial 0 with value: 0.9728078215704247.\n",
      "[I 2023-07-18 16:35:38,603] Trial 6 finished with value: 0.9415347137637028 and parameters: {'n_estimators': 190, 'max_depth': 17, 'min_samples_leaf': 5}. Best is trial 0 with value: 0.9728078215704247.\n",
      "[I 2023-07-18 16:35:42,116] Trial 7 finished with value: 0.9228432563791009 and parameters: {'n_estimators': 170, 'max_depth': 21, 'min_samples_leaf': 7}. Best is trial 0 with value: 0.9728078215704247.\n",
      "[I 2023-07-18 16:35:49,097] Trial 8 finished with value: 0.9657910812461821 and parameters: {'n_estimators': 280, 'max_depth': 16, 'min_samples_leaf': 3}. Best is trial 0 with value: 0.9728078215704247.\n",
      "[I 2023-07-18 16:35:53,223] Trial 9 finished with value: 0.9278977791299057 and parameters: {'n_estimators': 190, 'max_depth': 16, 'min_samples_leaf': 6}. Best is trial 0 with value: 0.9728078215704247.\n",
      "[I 2023-07-18 16:35:55,943] Trial 10 finished with value: 0.9721967613809961 and parameters: {'n_estimators': 100, 'max_depth': 35, 'min_samples_leaf': 3}. Best is trial 0 with value: 0.9728078215704247.\n",
      "[I 2023-07-18 16:35:58,913] Trial 11 finished with value: 0.9724770642201835 and parameters: {'n_estimators': 110, 'max_depth': 36, 'min_samples_leaf': 3}. Best is trial 0 with value: 0.9728078215704247.\n",
      "[I 2023-07-18 16:36:02,699] Trial 12 finished with value: 0.9587786259541985 and parameters: {'n_estimators': 140, 'max_depth': 35, 'min_samples_leaf': 4}. Best is trial 0 with value: 0.9728078215704247.\n",
      "[I 2023-07-18 16:36:06,244] Trial 13 finished with value: 0.9587786259541985 and parameters: {'n_estimators': 140, 'max_depth': 31, 'min_samples_leaf': 4}. Best is trial 0 with value: 0.9728078215704247.\n",
      "[I 2023-07-18 16:36:08,950] Trial 14 finished with value: 0.9570252971654983 and parameters: {'n_estimators': 100, 'max_depth': 31, 'min_samples_leaf': 4}. Best is trial 0 with value: 0.9728078215704247.\n",
      "[I 2023-07-18 16:36:12,986] Trial 15 finished with value: 0.974029941949282 and parameters: {'n_estimators': 150, 'max_depth': 37, 'min_samples_leaf': 3}. Best is trial 15 with value: 0.974029941949282.\n",
      "[I 2023-07-18 16:36:18,592] Trial 16 finished with value: 0.9603174603174602 and parameters: {'n_estimators': 230, 'max_depth': 39, 'min_samples_leaf': 4}. Best is trial 15 with value: 0.974029941949282.\n",
      "[I 2023-07-18 16:36:22,594] Trial 17 finished with value: 0.974029941949282 and parameters: {'n_estimators': 150, 'max_depth': 31, 'min_samples_leaf': 3}. Best is trial 15 with value: 0.974029941949282.\n",
      "[I 2023-07-18 16:36:26,291] Trial 18 finished with value: 0.9445797807551766 and parameters: {'n_estimators': 160, 'max_depth': 31, 'min_samples_leaf': 5}. Best is trial 15 with value: 0.974029941949282.\n",
      "[I 2023-07-18 16:36:32,221] Trial 19 finished with value: 0.974390243902439 and parameters: {'n_estimators': 230, 'max_depth': 39, 'min_samples_leaf': 3}. Best is trial 19 with value: 0.974390243902439.\n"
     ]
    },
    {
     "name": "stdout",
     "output_type": "stream",
     "text": [
      "CPU times: total: 1min 22s\n",
      "Wall time: 1min 26s\n"
     ]
    }
   ],
   "source": [
    "%%time\n",
    "# cоздаем объект исследования\n",
    "# можем напрямую указать, что нам необходимо максимизировать метрику direction=\"maximize\"\n",
    "study = optuna.create_study(study_name=\"RandomForestClassifier\", direction=\"maximize\")\n",
    "# ищем лучшую комбинацию гиперпараметров n_trials раз\n",
    "study.optimize(optuna_rf, n_trials=20)"
   ]
  },
  {
   "cell_type": "code",
   "execution_count": 22,
   "metadata": {},
   "outputs": [
    {
     "name": "stdout",
     "output_type": "stream",
     "text": [
      "f1_score на тестовом наборе: 0.82\n"
     ]
    }
   ],
   "source": [
    "# рассчитаем точность для тестовой выборки\n",
    "model = ensemble.RandomForestClassifier(**study.best_params,random_state=random_state)\n",
    "model.fit(X_train, y_train)\n",
    "#y_train_pred = model.predict(X_train)\n",
    "#print(\"accuracy на тестовом наборе: {:.2f}\".format(model.score(X_test, y_test)))\n",
    "y_test_pred = model.predict(X_test)\n",
    "print('f1_score на тестовом наборе: {:.2f}'.format(metrics.f1_score(y_test, y_test_pred)))"
   ]
  },
  {
   "cell_type": "markdown",
   "metadata": {},
   "source": [
    "При помощи Optuna также не удалось увеличить метрику f1, она имеет такое же значение как и у модели с параметрами по умолчанию.\n",
    "Для улучшения (максимизации) значения метрики f1 необходимо прододжить подбор параметров модели случайного леса."
   ]
  }
 ],
 "metadata": {
  "kernelspec": {
   "display_name": "base",
   "language": "python",
   "name": "python3"
  },
  "language_info": {
   "codemirror_mode": {
    "name": "ipython",
    "version": 3
   },
   "file_extension": ".py",
   "mimetype": "text/x-python",
   "name": "python",
   "nbconvert_exporter": "python",
   "pygments_lexer": "ipython3",
   "version": "3.9.13"
  },
  "orig_nbformat": 4
 },
 "nbformat": 4,
 "nbformat_minor": 2
}
